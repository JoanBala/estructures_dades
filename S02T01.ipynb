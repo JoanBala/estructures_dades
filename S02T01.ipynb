{
 "cells": [
  {
   "cell_type": "markdown",
   "id": "7410a85e",
   "metadata": {},
   "source": [
    "# S02 T01: Estructura de dades\n",
    "##### Familiaritzar-se amb les estructures de Python\n",
    "## Nivell 1\n",
    "* ### Exercici 1:\n",
    "__Crea una llista que agrupi els mesos de l’any en trimestres  \n",
    "(1T: Gener, Febrer i Març, 2T: Abril, Maig, Juny...), és a dir, una llista amb 4 llistes dins.__"
   ]
  },
  {
   "cell_type": "code",
   "execution_count": 1,
   "id": "d927f80f",
   "metadata": {
    "scrolled": true
   },
   "outputs": [
    {
     "data": {
      "text/plain": [
       "[['Gener', 'Febrer', 'Març'],\n",
       " ['Abril', 'Maig', 'Juny'],\n",
       " ['Juliol', 'Agost', 'Setembre'],\n",
       " ['Octubre', 'Novembre', 'Desembre']]"
      ]
     },
     "execution_count": 1,
     "metadata": {},
     "output_type": "execute_result"
    }
   ],
   "source": [
    "mesosany = [[\"Gener\", \"Febrer\", \"Març\"],[\"Abril\", \"Maig\", \"Juny\"],[\"Juliol\", \"Agost\", \"Setembre\"],[\"Octubre\", \"Novembre\", \"Desembre\"]]\n",
    "mesosany"
   ]
  },
  {
   "cell_type": "markdown",
   "id": "4c5c305e",
   "metadata": {},
   "source": [
    "* ### Exercici 2:\n",
    "__Crea un codi que et permeti accedir a:__  \n",
    "    __+ El segon mes del primer trimestre__  \n",
    "    __+ Els mesos del primer trimestre__  \n",
    "    __+ Setembre i octubre__"
   ]
  },
  {
   "cell_type": "code",
   "execution_count": 2,
   "id": "e369ab11",
   "metadata": {},
   "outputs": [
    {
     "name": "stdout",
     "output_type": "stream",
     "text": [
      "El 2n mes del 1er trimestre és:  Febrer\n",
      "Els mesos del 1er trimestre són: ['Gener', 'Febrer', 'Març']    Llista del 1er trimestre\n",
      "Els mesos del 1er trimestre són: [['Gener', 'Febrer', 'Març']]  Llista de la Llista del 1er trimestre\n",
      "Els mesos 9 i 10 són:            Setembre i Octubre\n"
     ]
    }
   ],
   "source": [
    "print(\"El 2n mes del 1er trimestre és:  \" + mesosany[0][1])                                # INDEXACIÓ POSITIVA\n",
    "print(\"Els mesos del 1er trimestre són:\", mesosany[0], \"   Llista del 1er trimestre\")\n",
    "print(\"Els mesos del 1er trimestre són:\", mesosany[:1], \" Llista de la Llista del 1er trimestre\")\n",
    "print(\"Els mesos 9 i 10 són:            \" + mesosany[2][2] + \" i \" + mesosany[3][0])"
   ]
  },
  {
   "cell_type": "code",
   "execution_count": 3,
   "id": "c6c77644",
   "metadata": {},
   "outputs": [
    {
     "name": "stdout",
     "output_type": "stream",
     "text": [
      "El 2n mes del 1er trimestre és:  Febrer\n",
      "Els mesos del 1er trimestre són: ['Gener', 'Febrer', 'Març']    Llista del 1er trimestre\n",
      "Els mesos del 1er trimestre són: [['Gener', 'Febrer', 'Març']]  Llista de la Llista del 1er trimestre\n",
      "Els mesos 9 i 10 són:            Setembre i Octubre\n"
     ]
    }
   ],
   "source": [
    "print(\"El 2n mes del 1er trimestre és:  \" + mesosany[-4][-2])                              # INDEXACIÓ NEGATIVA\n",
    "print(\"Els mesos del 1er trimestre són:\", mesosany[-4], \"   Llista del 1er trimestre\")\n",
    "print(\"Els mesos del 1er trimestre són:\", mesosany[:-3], \" Llista de la Llista del 1er trimestre\")\n",
    "print(\"Els mesos 9 i 10 són:            \" + mesosany[-2][-1] + \" i \" + mesosany[-1][-3])"
   ]
  },
  {
   "cell_type": "markdown",
   "id": "f81b662d",
   "metadata": {},
   "source": [
    "* ### Exercici 3:\n",
    "__Crea una llista amb nombres desordenats i respon a les següents preguntes:__\n",
    "__+ Quants números hi ha?__  \n",
    "__+ Quantes vegades apareix el número 3__  \n",
    "__+ Quantes vegades apareixen els nombres 3 i 4?__  \n",
    "__+ Quin és el número més gran?__  \n",
    "__+ Quins són els 3 números més petits?__  \n",
    "__+ Quin és el rang d’aquesta llista?__  "
   ]
  },
  {
   "cell_type": "code",
   "execution_count": 4,
   "id": "1b6ae632",
   "metadata": {},
   "outputs": [
    {
     "name": "stdout",
     "output_type": "stream",
     "text": [
      "\n",
      "La Llista creada és de 30 números aleatoris entre el 0 i el 25: \n",
      "\n",
      " [24, 5, 19, 3, 21, 15, 7, 22, 25, 6, 19, 1, 8, 25, 20, 6, 23, 1, 13, 20, 13, 14, 13, 3, 7, 1, 15, 8, 15, 14]\n"
     ]
    }
   ],
   "source": [
    "import random                          #El mòdul \"random\" genera números aleatoris combinatamb els seus mètodes\n",
    "llista_random = []\n",
    "for i in range(30):\n",
    "    llista_random.insert(i, random.randint(0,25))        # Amb el bucle for creem una Llista de 10 valors random\n",
    "print(\"\\nLa Llista creada és de 30 números aleatoris entre el 0 i el 25: \\n\\n\", llista_random)"
   ]
  },
  {
   "cell_type": "code",
   "execution_count": 5,
   "id": "f6e8c0a0",
   "metadata": {},
   "outputs": [
    {
     "name": "stdout",
     "output_type": "stream",
     "text": [
      "\n",
      "En aquesta llista hi ha: 30 elements.\n",
      "\n"
     ]
    }
   ],
   "source": [
    "print(\"\\nEn aquesta llista hi ha:\",len(llista_random),\"elements.\\n\")"
   ]
  },
  {
   "cell_type": "code",
   "execution_count": 6,
   "id": "af1a28ea",
   "metadata": {
    "scrolled": true
   },
   "outputs": [
    {
     "name": "stdout",
     "output_type": "stream",
     "text": [
      "Busquem el 3 i el 4 amb ... \"count():\"\n",
      "    El número '3' apareix: 2 cop(s). \n",
      "                El número '4' apareix: 0 cop(s).\n",
      "\n",
      "Busquem el 3 i el 4 amb ... \"if... y variable contador:\"\n",
      "    El número '3' apareix: 1 cop(s).\n",
      "    El número '4' apareix: 1 cop(s).\n"
     ]
    }
   ],
   "source": [
    "print(\"Busquem el 3 i el 4 amb ... \\\"count():\\\"\")                      #Podem fer-ho amb la funció count() ò...\n",
    "print(\"    El número '3' apareix:\",llista_random.count(3),\"cop(s). \\n    \\\n",
    "            El número '4' apareix:\",llista_random.count(4),\"cop(s).\")\n",
    "\n",
    "print(\"\\nBusquem el 3 i el 4 amb ... \\\"if... y variable contador:\\\"\")        #... podem fer uns if (o un for...)\n",
    "contador=0\n",
    "if 3 in llista_random:\n",
    "    contador+=1\n",
    "print(\"    El número '3' apareix:\",contador, \"cop(s).\")\n",
    "if 4 in llista_random:\n",
    "    contador+=1\n",
    "print(\"    El número '4' apareix:\",contador, \"cop(s).\")"
   ]
  },
  {
   "cell_type": "code",
   "execution_count": 7,
   "id": "5faa6acb",
   "metadata": {},
   "outputs": [
    {
     "name": "stdout",
     "output_type": "stream",
     "text": [
      "\n",
      "El número més gran de la Llista és el:  25 \n",
      "\n"
     ]
    }
   ],
   "source": [
    "print(\"\\nEl número més gran de la Llista és el: \", max(llista_random),\"\\n\")"
   ]
  },
  {
   "cell_type": "code",
   "execution_count": 8,
   "id": "9e0030fb",
   "metadata": {},
   "outputs": [
    {
     "name": "stdout",
     "output_type": "stream",
     "text": [
      "<class 'list'>\n",
      "\n",
      "Llista Random:\n",
      " [24, 5, 19, 3, 21, 15, 7, 22, 25, 6, 19, 1, 8, 25, 20, 6, 23, 1, 13, 20, 13, 14, 13, 3, 7, 1, 15, 8, 15, 14]\n"
     ]
    }
   ],
   "source": [
    "print(type(llista_random))\n",
    "print(\"\\nLlista Random:\\n\",llista_random)\n"
   ]
  },
  {
   "cell_type": "code",
   "execution_count": 9,
   "id": "0729b655",
   "metadata": {
    "scrolled": true
   },
   "outputs": [
    {
     "name": "stdout",
     "output_type": "stream",
     "text": [
      "Ordenats fent la còpia amb copy():\n",
      " [1, 1, 1, 3, 3, 5, 6, 6, 7, 7, 8, 8, 13, 13, 13, 14, 14, 15, 15, 15, 19, 19, 20, 20, 21, 22, 23, 24, 25, 25]\n",
      "Els 3 números més petits de la Llista(indexant) són:\n",
      " 1 , 1 i 1\n",
      "\n",
      "Ordenats fent la còpia amb list():\n",
      " [1, 1, 1, 3, 3, 5, 6, 6, 7, 7, 8, 8, 13, 13, 13, 14, 14, 15, 15, 15, 19, 19, 20, 20, 21, 22, 23, 24, 25, 25]\n",
      "Els 3 números més petits de la Llista(iterant) són:\n",
      "1\n",
      "1\n",
      "1\n"
     ]
    }
   ],
   "source": [
    "llista_random_ordenada=llista_random.copy()        #Fem ús del mètode copy() per no perdre la Llista original\n",
    "llista_random_ordenada.sort()                  # Fent servir sort(), obtenim els elements de la Llista ordenats\n",
    "print(\"Ordenats fent la còpia amb copy():\\n\",llista_random_ordenada)\n",
    "\n",
    "#Podem obtenir els 3 primers elements de la Llista amb l'índex corresponent (0, 1 i 2) ò...\n",
    "print(\"Els 3 números més petits de la Llista(indexant) són:\\n\",llista_random_ordenada[0],\",\", \\\n",
    "      llista_random_ordenada[1],\"i\",llista_random_ordenada[2])\n",
    "\n",
    "llista_random_ordenada=list(llista_random)      # Fem ús del mètode list()sense perdre la Llista original\n",
    "llista_random_ordenada.sort()                  # Fent servir sort(), obtenim els elements de la Llista ordenats\n",
    "print(\"\\nOrdenats fent la còpia amb list():\\n\",llista_random_ordenada)\n",
    "#... podem fer servir un bucle for per recórrer els 3 primers valors de la Llista\n",
    "print(\"Els 3 números més petits de la Llista(iterant) són:\")\n",
    "for x in range(3):\n",
    "    print(llista_random_ordenada[x])\n"
   ]
  },
  {
   "cell_type": "code",
   "execution_count": 10,
   "id": "63dcd556",
   "metadata": {},
   "outputs": [
    {
     "name": "stdout",
     "output_type": "stream",
     "text": [
      "Valor més alt: 25\n",
      "Valor més baix: 1\n",
      "\n",
      "El Rang Estadístic de la Llista és : 24. I és la diferència entre el valor més alt i el valor més baix\n"
     ]
    }
   ],
   "source": [
    "rang_estadistic=llista_random_ordenada[len(llista_random_ordenada)-1]-llista_random_ordenada[0]\n",
    "print(\"Valor més alt:\",llista_random_ordenada[len(llista_random_ordenada)-1])\n",
    "print(\"Valor més baix:\",llista_random_ordenada[0])\n",
    "print(\"\\nEl Rang Estadístic de la Llista és :\", rang_estadistic, end='.')\n",
    "print(\" I és la diferència entre el valor més alt i el valor més baix\")"
   ]
  },
  {
   "cell_type": "markdown",
   "id": "5dfec4a0",
   "metadata": {},
   "source": [
    "> __Rango estadístico:__  \n",
    "*En estadística, el rango representa la diferencia entre el valor máximo y el valor mínimo de un conjunto de datos. \n",
    "El rango nos muestra la distribución de los valores en una serie. Si el rango es un número muy alto, entonces los \n",
    "valores de la serie están bastante distribuidos. En cambio, si se trata de un número pequeño, quiere decir que los \n",
    "valores de la serie están muy cerca entre sí.*"
   ]
  },
  {
   "cell_type": "markdown",
   "id": "f88a3f69",
   "metadata": {},
   "source": [
    "* ### Exercici 4:\n",
    "__Crea un diccionari de la següent forma i respon a les preguntes:__  \n",
    "\n",
    "   __compra = { \"Pomes\" : {\"Qty\": 5, \"€\": 0.42}, \"Peres\" : {\"Qty\": 3, \"€\": 0.66} }__\n",
    "\n",
    "    __+ Afegeix alguna fruita més__  \n",
    "    __+ Quant han costat les peres en total?__  \n",
    "    __+ Quantes fruites hem comprat en total?__  \n",
    "    __+ Quina és la fruita més cara?__\n",
    "          "
   ]
  },
  {
   "cell_type": "code",
   "execution_count": 18,
   "id": "4300a9c8",
   "metadata": {},
   "outputs": [
    {
     "name": "stdout",
     "output_type": "stream",
     "text": [
      "\n",
      "Cistell de la compra:\n",
      " {'Pomes': {'Quantitat': 5, '€': 0.42}, 'Peres': {'Quantitat': 3, '€': 0.66}}\n",
      "\n",
      "  Amb el mètode update() actualitzem l'element si existeix, si no, el crea nou.\n",
      "\n",
      "Nou cistell de la compra:\n",
      " Pomes {'Quantitat': 5, '€': 0.42} \n",
      " Peres {'Quantitat': 3, '€': 0.66} \n",
      " Maduixes {'Quantitat': 8, '€': 0.69} \n",
      "\n"
     ]
    }
   ],
   "source": [
    "compra = {\n",
    "    \"Pomes\" : {\"Quantitat\": 5, \"€\": 0.42}, \n",
    "    \"Peres\" : {\"Quantitat\": 3, \"€\": 0.66} \n",
    "}\n",
    "print(\"\\nCistell de la compra:\\n\",compra)\n",
    "\n",
    "compra.update({'Maduixes': {'Quantitat': 8, '€': 0.69}})\n",
    "print(\"\\n  Amb el mètode update() actualitzem l'element si existeix, si no, el crea nou.\")\n",
    "\n",
    "fruites=list(compra.keys())\n",
    "print(\"\\nNou cistell de la compra:\\n\",fruites[0],compra[\"Pomes\"],\"\\n\",fruites[1],compra[\"Peres\"], \\\n",
    "      \"\\n\",fruites[2],compra[\"Maduixes\"],\"\\n\")"
   ]
  },
  {
   "cell_type": "code",
   "execution_count": 12,
   "id": "5ec7646a",
   "metadata": {},
   "outputs": [
    {
     "name": "stdout",
     "output_type": "stream",
     "text": [
      "\n",
      "Amb les Peres ens hem gastat: 1.98 €.\n"
     ]
    }
   ],
   "source": [
    "preuperes=compra[\"Peres\"][\"Quantitat\"] * compra[\"Peres\"][\"€\"]\n",
    "print(\"\\nAmb les Peres ens hem gastat:\", preuperes, \"€.\")"
   ]
  },
  {
   "cell_type": "code",
   "execution_count": 13,
   "id": "2b70e66c",
   "metadata": {},
   "outputs": [
    {
     "name": "stdout",
     "output_type": "stream",
     "text": [
      "\n",
      "Hem comprat en total: 16 fruites.\n"
     ]
    }
   ],
   "source": [
    "totalfruites=compra[\"Peres\"][\"Quantitat\"] + compra[\"Pomes\"][\"Quantitat\"] + compra[\"Maduixes\"][\"Quantitat\"]\n",
    "print(\"\\nHem comprat en total:\", totalfruites, \"fruites.\")"
   ]
  },
  {
   "cell_type": "code",
   "execution_count": 17,
   "id": "b3a2c0e1",
   "metadata": {},
   "outputs": [
    {
     "name": "stdout",
     "output_type": "stream",
     "text": [
      "\n",
      "Amb les Peres ens hem gastat: 1.98 €.\n",
      "Amb les Pomes ens hem gastat: 2.1 €.\n",
      "Amb les maduixes ens hem gastat: 5.52 €.\n",
      "La fruita més cara és la: Maduixa.\n"
     ]
    }
   ],
   "source": [
    "preuperes=compra[\"Peres\"][\"Quantitat\"] * compra[\"Peres\"][\"€\"]\n",
    "print(\"\\nAmb les Peres ens hem gastat:\", preuperes, \"€.\")\n",
    "preupomes=compra[\"Pomes\"]['Quantitat'] * compra[\"Pomes\"]['€']\n",
    "print(\"Amb les Pomes ens hem gastat:\", preupomes, \"€.\")\n",
    "preumaduixes=compra[\"Maduixes\"]['Quantitat'] * compra[\"Maduixes\"]['€']\n",
    "print(\"Amb les maduixes ens hem gastat:\", preumaduixes, \"€.\")\n",
    "mescar=max(preuperes,preupomes,preumaduixes)\n",
    "if mescar==preuperes:\n",
    "    fruitamescara=\"Pera.\"\n",
    "elif mescar==preupomes:\n",
    "    fruitamescara=\"Poma.\"\n",
    "elif mescar==preumaduixes:\n",
    "    fruitamescara=\"Maduixa.\"\n",
    "print(\"La fruita més cara és la:\", fruitamescara)"
   ]
  },
  {
   "cell_type": "code",
   "execution_count": 15,
   "id": "c6c28fd8",
   "metadata": {},
   "outputs": [
    {
     "name": "stdout",
     "output_type": "stream",
     "text": [
      "\n",
      "El total de la Cistella és: 9.6 €.\n"
     ]
    }
   ],
   "source": [
    "preutotal=preuperes+preupomes+preumaduixes\n",
    "print(\"\\nEl total de la Cistella és:\",preutotal, \"€.\")"
   ]
  },
  {
   "cell_type": "markdown",
   "id": "17348e09",
   "metadata": {},
   "source": [
    "## OFFTopic"
   ]
  },
  {
   "cell_type": "code",
   "execution_count": 16,
   "id": "5f44bb94",
   "metadata": {},
   "outputs": [
    {
     "name": "stdout",
     "output_type": "stream",
     "text": [
      "Tallem en trossets les fruites, afegim un Suc de Taronja i tenim un postre ràpid i molt nutritiu. :-D\n",
      "\n",
      "Macedònia:\n",
      " Pomes {'Quantitat': 5, '€': 0.42} \n",
      " Peres {'Quantitat': 3, '€': 0.66} \n",
      " Maduixes {'Quantitat': 8, '€': 0.69}\n",
      " Suc   {'Quantitat': 1, '€': 0.99}\n",
      "\n",
      "\n",
      "Bon Profit !!!!!!!!!!!!\n"
     ]
    }
   ],
   "source": [
    "compra.update({'Suc': {'Quantitat': 1, '€': 0.99}})\n",
    "fruites=list(compra.keys())\n",
    "print(\"Tallem en trossets les fruites, afegim un Suc de Taronja i tenim un postre ràpid i molt nutritiu. :-D\")\n",
    "print(\"\\nMacedònia:\\n\",fruites[0],compra[\"Pomes\"],\"\\n\",fruites[1],compra[\"Peres\"],\"\\n\",fruites[2], \\\n",
    "      compra[\"Maduixes\"])\n",
    "print(\"\",fruites[3],\" \", compra[\"Suc\"])\n",
    "print(\"\\n\\nBon Profit !!!!!!!!!!!!\")"
   ]
  },
  {
   "attachments": {
    "macedonia-3.jpg": {
     "image/jpeg": "[encoded data removed]"
    }
   },
   "cell_type": "markdown",
   "id": "1e65558c",
   "metadata": {},
   "source": [
    "![macedonia-3.jpg](attachment:macedonia-3.jpg)"
   ]
  }
 ],
 "metadata": {
  "kernelspec": {
   "display_name": "Python 3",
   "language": "python",
   "name": "python3"
  },
  "language_info": {
   "codemirror_mode": {
    "name": "ipython",
    "version": 3
   },
   "file_extension": ".py",
   "mimetype": "text/x-python",
   "name": "python",
   "nbconvert_exporter": "python",
   "pygments_lexer": "ipython3",
   "version": "3.8.8"
  }
 },
 "nbformat": 4,
 "nbformat_minor": 5
}
